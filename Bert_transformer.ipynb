{
 "cells": [
  {
   "cell_type": "markdown",
   "id": "21b564dd-e244-4518-8a95-bbc90b9a6747",
   "metadata": {},
   "source": [
    "# 安裝 & 設定\n",
    "## 安裝 Bert-as-server & Bert-as-client\n",
    "https://github.com/hanxiao/bert-as-service"
   ]
  },
  {
   "cell_type": "raw",
   "id": "80885491-7433-4371-af1e-ecbcb1b2544b",
   "metadata": {},
   "source": [
    "pip install bert-serving-server  # server\n",
    "pip install bert-serving-client # client, independent of 'bert-serving-server'"
   ]
  },
  {
   "cell_type": "markdown",
   "id": "71364931-f908-4324-a2de-d3adbabfd6b4",
   "metadata": {},
   "source": [
    "## 下載Bert的中文模型"
   ]
  },
  {
   "cell_type": "raw",
   "id": "1350e04a-5fc8-4663-acdf-c4482fc30135",
   "metadata": {},
   "source": [
    "wget https://storage.googleapis.com/bert_models/2018_11_03/chinese_L-12_H-768_A-12.zip -p ~/Projects/TSGH2021-AI/\n",
    "unzip chinese_L-12_H-768_A-12.zip -y"
   ]
  },
  {
   "cell_type": "markdown",
   "id": "e0f4ee58-9c53-4f28-8c57-85489b9069c9",
   "metadata": {},
   "source": [
    "## 安裝繁簡轉換工具"
   ]
  },
  {
   "cell_type": "raw",
   "id": "7de05421-6d43-4598-aa34-63e769a32b61",
   "metadata": {},
   "source": [
    "pip install opencc-python-reimplemented"
   ]
  },
  {
   "cell_type": "markdown",
   "id": "359f4083-4c50-4f9f-a917-cc642eba1f91",
   "metadata": {},
   "source": [
    "## 套用設定"
   ]
  },
  {
   "cell_type": "raw",
   "id": "7ae3d0d0-7f0a-40e0-a66c-04a1ff7cbe62",
   "metadata": {},
   "source": [
    "PTHNAME= ~/Projects/TSGH2021-AI/chinese_L-12_H-768_A-12\n",
    "bert-serving-start -model_dir ${PTHNAME} -num_worker=1"
   ]
  },
  {
   "cell_type": "code",
   "execution_count": null,
   "id": "52a9c4cc-c57a-44f8-a012-e8077ec445e6",
   "metadata": {},
   "outputs": [],
   "source": [
    "from opencc import "
   ]
  }
 ],
 "metadata": {
  "kernelspec": {
   "display_name": "Python 3 (ipykernel)",
   "language": "python",
   "name": "python3"
  },
  "language_info": {
   "codemirror_mode": {
    "name": "ipython",
    "version": 3
   },
   "file_extension": ".py",
   "mimetype": "text/x-python",
   "name": "python",
   "nbconvert_exporter": "python",
   "pygments_lexer": "ipython3",
   "version": "3.8.10"
  }
 },
 "nbformat": 4,
 "nbformat_minor": 5
}
