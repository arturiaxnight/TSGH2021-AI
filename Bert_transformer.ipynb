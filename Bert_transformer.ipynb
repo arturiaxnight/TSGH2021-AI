{
 "cells": [
  {
   "cell_type": "markdown",
   "id": "21b564dd-e244-4518-8a95-bbc90b9a6747",
   "metadata": {},
   "source": [
    "# 安裝 & 設定\n",
    "## 安裝 Bert-as-server & Bert-as-client\n",
    "https://github.com/hanxiao/bert-as-service"
   ]
  },
  {
   "cell_type": "code",
   "execution_count": 1,
   "id": "3fd1b798-6ef4-4799-9cf2-87f1f236b0a2",
   "metadata": {},
   "outputs": [
    {
     "name": "stdout",
     "output_type": "stream",
     "text": [
      "\u001b[33mWARNING: The directory '/tmp/user-pip' or its parent directory is not owned or is not writable by the current user. The cache has been disabled. Check the permissions and owner of that directory. If executing pip with sudo, you should use sudo's -H flag.\u001b[0m\n",
      "Requirement already satisfied: bert-serving-server in /home/gunpow777/.nchc_conda/envs/jupyterlab/lib/python3.8/site-packages (1.10.0)\n",
      "Requirement already satisfied: six in /home/gunpow777/.nchc_conda/envs/jupyterlab/lib/python3.8/site-packages (from bert-serving-server) (1.15.0)\n",
      "Requirement already satisfied: numpy in /home/gunpow777/.nchc_conda/envs/jupyterlab/lib/python3.8/site-packages (from bert-serving-server) (1.19.5)\n",
      "Requirement already satisfied: pyzmq>=17.1.0 in /home/gunpow777/.nchc_conda/envs/jupyterlab/lib/python3.8/site-packages (from bert-serving-server) (22.3.0)\n",
      "Requirement already satisfied: termcolor>=1.1 in /home/gunpow777/.nchc_conda/envs/jupyterlab/lib/python3.8/site-packages (from bert-serving-server) (1.1.0)\n",
      "Requirement already satisfied: GPUtil>=1.3.0 in /home/gunpow777/.nchc_conda/envs/jupyterlab/lib/python3.8/site-packages (from bert-serving-server) (1.4.0)\n",
      "\u001b[33mWARNING: The directory '/tmp/user-pip' or its parent directory is not owned or is not writable by the current user. The cache has been disabled. Check the permissions and owner of that directory. If executing pip with sudo, you should use sudo's -H flag.\u001b[0m\n",
      "Requirement already satisfied: bert-serving-client in /home/gunpow777/.nchc_conda/envs/jupyterlab/lib/python3.8/site-packages (1.10.0)\n",
      "Requirement already satisfied: pyzmq>=17.1.0 in /home/gunpow777/.nchc_conda/envs/jupyterlab/lib/python3.8/site-packages (from bert-serving-client) (22.3.0)\n",
      "Requirement already satisfied: numpy in /home/gunpow777/.nchc_conda/envs/jupyterlab/lib/python3.8/site-packages (from bert-serving-client) (1.19.5)\n"
     ]
    }
   ],
   "source": [
    "!pip install bert-serving-server  # server\n",
    "!pip install bert-serving-client # client, independent of 'bert-serving-server'"
   ]
  },
  {
   "cell_type": "markdown",
   "id": "71364931-f908-4324-a2de-d3adbabfd6b4",
   "metadata": {},
   "source": [
    "## 下載Bert的中文模型"
   ]
  },
  {
   "cell_type": "code",
   "execution_count": 2,
   "id": "d5f27c4f-f846-42ca-9c96-9a6ecd00a165",
   "metadata": {},
   "outputs": [
    {
     "name": "stdout",
     "output_type": "stream",
     "text": [
      "--2021-10-29 13:56:51--  https://storage.googleapis.com/bert_models/2018_11_03/chinese_L-12_H-768_A-12.zip\n",
      "Resolving storage.googleapis.com (storage.googleapis.com)... 142.251.42.240, 142.251.43.16, 172.217.160.80, ...\n",
      "Connecting to storage.googleapis.com (storage.googleapis.com)|142.251.42.240|:443... connected.\n",
      "HTTP request sent, awaiting response... 200 OK\n",
      "Length: 381892918 (364M) [application/zip]\n",
      "Saving to: ‘storage.googleapis.com/bert_models/2018_11_03/chinese_L-12_H-768_A-12.zip’\n",
      "\n",
      "100%[======================================>] 381,892,918  320MB/s   in 1.1s   \n",
      "\n",
      "2021-10-29 13:56:52 (320 MB/s) - ‘storage.googleapis.com/bert_models/2018_11_03/chinese_L-12_H-768_A-12.zip’ saved [381892918/381892918]\n",
      "\n",
      "/home/gunpow777/Projects/TSGH2021-AI/: Scheme missing.\n",
      "FINISHED --2021-10-29 13:56:52--\n",
      "Total wall clock time: 1.4s\n",
      "Downloaded: 1 files, 364M in 1.1s (320 MB/s)\n",
      "Archive:  chinese_L-12_H-768_A-12.zip\n",
      "caution: filename not matched:  -y\n"
     ]
    }
   ],
   "source": [
    "!wget https://storage.googleapis.com/bert_models/2018_11_03/chinese_L-12_H-768_A-12.zip -p ~/Projects/TSGH2021-AI/\n",
    "!unzip chinese_L-12_H-768_A-12.zip -y"
   ]
  },
  {
   "cell_type": "markdown",
   "id": "e0f4ee58-9c53-4f28-8c57-85489b9069c9",
   "metadata": {},
   "source": [
    "## 安裝繁簡轉換工具"
   ]
  },
  {
   "cell_type": "code",
   "execution_count": 3,
   "id": "8dfa091f-523d-4864-8fba-7a4bc10e5852",
   "metadata": {},
   "outputs": [
    {
     "name": "stdout",
     "output_type": "stream",
     "text": [
      "\u001b[33mWARNING: The directory '/tmp/user-pip' or its parent directory is not owned or is not writable by the current user. The cache has been disabled. Check the permissions and owner of that directory. If executing pip with sudo, you should use sudo's -H flag.\u001b[0m\n",
      "Requirement already satisfied: opencc-python-reimplemented in /home/gunpow777/.nchc_conda/envs/jupyterlab/lib/python3.8/site-packages (0.1.6)\n"
     ]
    }
   ],
   "source": [
    "!pip install opencc-python-reimplemented"
   ]
  },
  {
   "cell_type": "markdown",
   "id": "359f4083-4c50-4f9f-a917-cc642eba1f91",
   "metadata": {},
   "source": [
    "## 套用設定"
   ]
  },
  {
   "cell_type": "code",
   "execution_count": 6,
   "id": "3f762a9c-d81b-4624-a0a9-cbca04c2cb2b",
   "metadata": {},
   "outputs": [
    {
     "name": "stdout",
     "output_type": "stream",
     "text": [
      "/bin/bash: /home/gunpow777/Projects/TSGH2021-AI/chinese_L-12_H-768_A-12: Is a directory\n",
      "2021-10-29 13:58:14.528612: W tensorflow/stream_executor/platform/default/dso_loader.cc:64] Could not load dynamic library 'libcudart.so.11.0'; dlerror: libcudart.so.11.0: cannot open shared object file: No such file or directory\n",
      "2021-10-29 13:58:14.528663: I tensorflow/stream_executor/cuda/cudart_stub.cc:29] Ignore above cudart dlerror if you do not have a GPU set up on your machine.\n",
      "/home/gunpow777/.nchc_conda/envs/jupyterlab/lib/python3.8/site-packages/bert_serving/server/helper.py:175: UserWarning: Tensorflow 2.6.0 is not tested! It may or may not work. Feel free to submit an issue at https://github.com/hanxiao/bert-as-service/issues/\n",
      "  warnings.warn('Tensorflow %s is not tested! It may or may not work. '\n",
      "usage: bert-serving-start [-h] -model_dir MODEL_DIR\n",
      "                          [-tuned_model_dir TUNED_MODEL_DIR]\n",
      "                          [-ckpt_name CKPT_NAME] [-config_name CONFIG_NAME]\n",
      "                          [-graph_tmp_dir GRAPH_TMP_DIR]\n",
      "                          [-max_seq_len MAX_SEQ_LEN] [-cased_tokenization]\n",
      "                          [-pooling_layer POOLING_LAYER [POOLING_LAYER ...]]\n",
      "                          [-pooling_strategy {NONE,REDUCE_MAX,REDUCE_MEAN,REDUCE_MEAN_MAX,FIRST_TOKEN,LAST_TOKEN,CLS_POOLED}]\n",
      "                          [-mask_cls_sep] [-no_special_token]\n",
      "                          [-show_tokens_to_client] [-no_position_embeddings]\n",
      "                          [-port PORT] [-port_out PORT_OUT]\n",
      "                          [-http_port HTTP_PORT]\n",
      "                          [-http_max_connect HTTP_MAX_CONNECT] [-cors CORS]\n",
      "                          [-num_worker NUM_WORKER]\n",
      "                          [-max_batch_size MAX_BATCH_SIZE]\n",
      "                          [-priority_batch_size PRIORITY_BATCH_SIZE] [-cpu]\n",
      "                          [-xla] [-fp16]\n",
      "                          [-gpu_memory_fraction GPU_MEMORY_FRACTION]\n",
      "                          [-device_map DEVICE_MAP [DEVICE_MAP ...]]\n",
      "                          [-prefetch_size PREFETCH_SIZE] [-fixed_embed_length]\n",
      "                          [-verbose] [-version]\n",
      "bert-serving-start: error: argument -model_dir: expected one argument\n"
     ]
    }
   ],
   "source": [
    "!PTHNAME= ~/Projects/TSGH2021-AI/chinese_L-12_H-768_A-12\n",
    "!bert-serving-start -model_dir ${PTHNAME} -num_worker=1"
   ]
  },
  {
   "cell_type": "code",
   "execution_count": null,
   "id": "52a9c4cc-c57a-44f8-a012-e8077ec445e6",
   "metadata": {},
   "outputs": [],
   "source": []
  }
 ],
 "metadata": {
  "kernelspec": {
   "display_name": "Python 3 (ipykernel)",
   "language": "python",
   "name": "python3"
  },
  "language_info": {
   "codemirror_mode": {
    "name": "ipython",
    "version": 3
   },
   "file_extension": ".py",
   "mimetype": "text/x-python",
   "name": "python",
   "nbconvert_exporter": "python",
   "pygments_lexer": "ipython3",
   "version": "3.8.12"
  }
 },
 "nbformat": 4,
 "nbformat_minor": 5
}
