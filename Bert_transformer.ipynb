{
 "cells": [
  {
   "cell_type": "markdown",
   "id": "21b564dd-e244-4518-8a95-bbc90b9a6747",
   "metadata": {},
   "source": [
    "# 安裝 & 設定"
   ]
  },
  {
   "cell_type": "markdown",
   "id": "e0f4ee58-9c53-4f28-8c57-85489b9069c9",
   "metadata": {},
   "source": [
    "## 安裝繁簡轉換工具"
   ]
  },
  {
   "cell_type": "raw",
   "id": "7de05421-6d43-4598-aa34-63e769a32b61",
   "metadata": {},
   "source": [
    "pip install opencc-python-reimplemented"
   ]
  },
  {
   "cell_type": "markdown",
   "id": "359f4083-4c50-4f9f-a917-cc642eba1f91",
   "metadata": {},
   "source": [
    "## 測試繁簡轉換"
   ]
  },
  {
   "cell_type": "code",
   "execution_count": null,
   "id": "5746bb48-9ea6-4ebf-958d-2697e40edcf6",
   "metadata": {},
   "outputs": [],
   "source": [
    "from opencc import OpenCC\n",
    "cc = OpenCC('s2t')\n",
    "cc.convert('上海2010上半年四六级考试报名4月8日前完成')"
   ]
  },
  {
   "cell_type": "markdown",
   "id": "36e62267-4864-4954-abe2-58786e9fdb20",
   "metadata": {},
   "source": [
    "# 建立 BERT Tokenizer"
   ]
  },
  {
   "cell_type": "code",
   "execution_count": null,
   "id": "8c7785f3-e2b1-46ea-b48e-a7660fcf12f1",
   "metadata": {},
   "outputs": [],
   "source": [
    "import tensorflow as tf\n",
    "from transformers import BertTokenizer"
   ]
  },
  {
   "cell_type": "code",
   "execution_count": null,
   "id": "29ebdb01-1218-4c76-aa8c-2a64cb0d28ae",
   "metadata": {},
   "outputs": [],
   "source": [
    "tokenizer = BertTokenizer.from_pretrained('bert-base-chinese')"
   ]
  },
  {
   "cell_type": "code",
   "execution_count": null,
   "id": "4bb97a62-5588-4979-a00e-3357dc824c71",
   "metadata": {},
   "outputs": [],
   "source": [
    "tokenizer.tokenize(\"它的特性是難以專注、過度活躍、做事不考慮後果等等。除此之外，還有不合年紀的行為\")"
   ]
  },
  {
   "cell_type": "code",
   "execution_count": null,
   "id": "aaee5bcf-195f-457e-9c62-c1f28df7561d",
   "metadata": {},
   "outputs": [],
   "source": [
    "tokenizer.convert_tokens_to_ids(tokenizer.tokenize(\"它的特性是難以專注、過度活躍、做事不考慮後果等等。除此之外，還有不合年紀的行為\"))"
   ]
  },
  {
   "cell_type": "code",
   "execution_count": null,
   "id": "6ee457c3-e963-4a67-9fb0-9b8c83a55661",
   "metadata": {},
   "outputs": [],
   "source": [
    "def tokenize_text(text_input:str): # 自動轉換繁體之後轉成ID\n",
    "    return tokenizer.convert_tokens_to_ids(tokenizer.tokenize(cc.convert(text_input)))"
   ]
  },
  {
   "cell_type": "markdown",
   "id": "461900d8-4541-4c55-bd51-60f7d276a489",
   "metadata": {},
   "source": [
    "# 讀取Data "
   ]
  },
  {
   "cell_type": "code",
   "execution_count": null,
   "id": "2275b57f-8fd2-4bc6-8d4e-6acaeb4a37eb",
   "metadata": {},
   "outputs": [],
   "source": [
    "import pandas as pd"
   ]
  },
  {
   "cell_type": "code",
   "execution_count": null,
   "id": "d6c0edcc-a23c-4f09-83ba-5eaceddeaa28",
   "metadata": {},
   "outputs": [],
   "source": [
    "df_raw = pd.read_csv('toutiao_cat_data.txt',sep='_!_',header=None,names=['1','2','label','text','3'])"
   ]
  },
  {
   "cell_type": "code",
   "execution_count": null,
   "id": "7433b165-dc1b-494e-a5c0-9d95b6643549",
   "metadata": {},
   "outputs": [],
   "source": [
    "dataset = df_raw[['text','label']]"
   ]
  },
  {
   "cell_type": "code",
   "execution_count": null,
   "id": "9969008a-d22b-4834-ba18-e308848e8662",
   "metadata": {},
   "outputs": [],
   "source": [
    "dataset.isnull().values.any()"
   ]
  },
  {
   "cell_type": "code",
   "execution_count": null,
   "id": "29aa55ee-514a-49f4-b1cc-47d47a214c91",
   "metadata": {},
   "outputs": [],
   "source": [
    "dataset.shape"
   ]
  },
  {
   "cell_type": "code",
   "execution_count": null,
   "id": "5c78d8ed-f39c-4d11-9146-711701508fd8",
   "metadata": {},
   "outputs": [],
   "source": [
    "dataset = dataset.sample(10000)\n",
    "text = dataset['text'].values\n",
    "label = dataset['label'].values"
   ]
  },
  {
   "cell_type": "code",
   "execution_count": null,
   "id": "71955589-87b9-4159-bdf3-d80c2ab5cd19",
   "metadata": {},
   "outputs": [],
   "source": [
    "from sklearn.preprocessing import LabelEncoder"
   ]
  },
  {
   "cell_type": "code",
   "execution_count": null,
   "id": "e2935a23-986c-4589-877c-cb4674f53b2f",
   "metadata": {},
   "outputs": [],
   "source": [
    "le = LabelEncoder()"
   ]
  },
  {
   "cell_type": "code",
   "execution_count": null,
   "id": "d0234a8e-dd07-4e4d-ae91-ebb9010ad576",
   "metadata": {},
   "outputs": [],
   "source": [
    "le.fit(label)"
   ]
  },
  {
   "cell_type": "code",
   "execution_count": null,
   "id": "bace53b0-5c0e-465b-b184-3401f2e551a1",
   "metadata": {},
   "outputs": [],
   "source": [
    "y = le.transform(label)"
   ]
  },
  {
   "cell_type": "code",
   "execution_count": null,
   "id": "f1e38ed8-19e0-4748-b526-7c01c4af83c0",
   "metadata": {},
   "outputs": [],
   "source": [
    "text[10]"
   ]
  },
  {
   "cell_type": "code",
   "execution_count": null,
   "id": "c0388903-7fc0-4767-be45-dfe163986cd6",
   "metadata": {},
   "outputs": [],
   "source": [
    "tokenize_text(text[10])"
   ]
  },
  {
   "cell_type": "code",
   "execution_count": null,
   "id": "5717e7e7-570f-4e7f-9379-c9118c25ec22",
   "metadata": {},
   "outputs": [],
   "source": [
    "label[10]"
   ]
  },
  {
   "cell_type": "code",
   "execution_count": null,
   "id": "c5a48c91-ee95-4418-b0c0-571fb9bc1697",
   "metadata": {},
   "outputs": [],
   "source": [
    "y[10]"
   ]
  },
  {
   "cell_type": "code",
   "execution_count": null,
   "id": "9f15b53b-2bfa-4955-9861-d02539e46dc1",
   "metadata": {},
   "outputs": [],
   "source": []
  },
  {
   "cell_type": "code",
   "execution_count": null,
   "id": "eba5d73d-0a2a-4816-a9b9-33562a1b9eb5",
   "metadata": {},
   "outputs": [],
   "source": [
    "tokenized_text = [tokenize_text(i) for i in text]"
   ]
  },
  {
   "cell_type": "code",
   "execution_count": null,
   "id": "1813020c-40ea-42da-b11e-80d1a77e6432",
   "metadata": {},
   "outputs": [],
   "source": [
    "len(tokenized_text)"
   ]
  },
  {
   "cell_type": "code",
   "execution_count": null,
   "id": "1a277262-9f1c-48a8-9167-be56d45a04cf",
   "metadata": {},
   "outputs": [],
   "source": [
    "text_label_len = [[text,y[i],len(text)] for i, text in enumerate(tokenized_text)]"
   ]
  },
  {
   "cell_type": "code",
   "execution_count": null,
   "id": "52907fce-ee34-46a5-a785-a201e64a2cc8",
   "metadata": {},
   "outputs": [],
   "source": [
    "import random\n",
    "random.shuffle(text_label_len)"
   ]
  },
  {
   "cell_type": "code",
   "execution_count": null,
   "id": "4f0addee-a11b-4b6c-8f69-fded82f6306c",
   "metadata": {},
   "outputs": [],
   "source": [
    "text_label_len.sort(key=lambda x: x[2])"
   ]
  },
  {
   "cell_type": "code",
   "execution_count": null,
   "id": "c5c099c9-29c8-482f-a7f9-995ff7bbc54e",
   "metadata": {},
   "outputs": [],
   "source": [
    "sorted_text_label = [(comps[0],comps[1]) for comps in text_label_len]"
   ]
  },
  {
   "cell_type": "code",
   "execution_count": null,
   "id": "bac6a510-4ea2-458b-a95f-5b61a7fcb55d",
   "metadata": {},
   "outputs": [],
   "source": []
  },
  {
   "cell_type": "markdown",
   "id": "cdecf9ae-c5ea-44b5-a685-2fd7d39a9a7e",
   "metadata": {},
   "source": [
    "# 建立TFDataset"
   ]
  },
  {
   "cell_type": "code",
   "execution_count": null,
   "id": "175c9b64-200b-403c-bcd0-565e0aa9bcd9",
   "metadata": {},
   "outputs": [],
   "source": [
    "processed_dataset = tf.data.Dataset.from_generator(lambda: sorted_text_label, output_types=(tf.int32, tf.int32))"
   ]
  },
  {
   "cell_type": "code",
   "execution_count": null,
   "id": "d6f492a8-286f-4867-b18e-e084ee85702e",
   "metadata": {},
   "outputs": [],
   "source": [
    "BATCH_SIZE = 128\n",
    "max_len = 32\n",
    "batched_dataset = processed_dataset.padded_batch(BATCH_SIZE, padded_shapes=((max_len, ), ()))"
   ]
  },
  {
   "cell_type": "code",
   "execution_count": null,
   "id": "83be4acd-d987-41a4-8534-e847f6160c9c",
   "metadata": {},
   "outputs": [],
   "source": [
    "next(iter(batched_dataset))"
   ]
  },
  {
   "cell_type": "markdown",
   "id": "e7d53959-2e96-42f9-b01d-f8678c2edc1e",
   "metadata": {},
   "source": [
    "## 製作訓練測試"
   ]
  },
  {
   "cell_type": "code",
   "execution_count": null,
   "id": "00e27261-4ed6-472a-abde-78a20aec2ffe",
   "metadata": {},
   "outputs": [],
   "source": [
    "import math\n",
    "TOTAL_BATCHES = math.ceil(len(sorted_text_label) / BATCH_SIZE)\n",
    "TEST_BATCHES = TOTAL_BATCHES // 10\n",
    "batched_dataset.shuffle(TOTAL_BATCHES)\n",
    "test_data = batched_dataset.take(TEST_BATCHES)\n",
    "train_data = batched_dataset.skip(TEST_BATCHES)"
   ]
  },
  {
   "cell_type": "code",
   "execution_count": null,
   "id": "d36c4ec9-8949-4b4d-a4f4-6bcf98a52593",
   "metadata": {},
   "outputs": [],
   "source": [
    "from transformers import TFBertForSequenceClassification"
   ]
  },
  {
   "cell_type": "code",
   "execution_count": null,
   "id": "42a2c31f-3240-4538-ad87-b92b1620dadb",
   "metadata": {},
   "outputs": [],
   "source": [
    "model = TFBertForSequenceClassification.from_pretrained('bert-base-chinese')"
   ]
  },
  {
   "cell_type": "code",
   "execution_count": null,
   "id": "2f2b1fae-1bd3-4261-9de3-2d319bc5e353",
   "metadata": {},
   "outputs": [],
   "source": [
    "model.compile(loss='binary_crossentropy',optimizer='adam',metrics=['accuracy'])"
   ]
  },
  {
   "cell_type": "code",
   "execution_count": null,
   "id": "59d0284a-83c7-4313-a25b-ec14431a8aa0",
   "metadata": {},
   "outputs": [],
   "source": [
    "model.fit(train_data, epochs=5)"
   ]
  },
  {
   "cell_type": "code",
   "execution_count": null,
   "id": "d2aee9e7-892f-4f6d-954a-66989aa993ef",
   "metadata": {},
   "outputs": [],
   "source": [
    "model.evaluate(test_data)"
   ]
  },
  {
   "cell_type": "code",
   "execution_count": null,
   "id": "38e66ec0-4cb1-4520-9d43-e49694dff5e0",
   "metadata": {},
   "outputs": [],
   "source": []
  }
 ],
 "metadata": {
  "kernelspec": {
   "display_name": "Python 3 (ipykernel)",
   "language": "python",
   "name": "python3"
  },
  "language_info": {
   "codemirror_mode": {
    "name": "ipython",
    "version": 3
   },
   "file_extension": ".py",
   "mimetype": "text/x-python",
   "name": "python",
   "nbconvert_exporter": "python",
   "pygments_lexer": "ipython3",
   "version": "3.8.10"
  }
 },
 "nbformat": 4,
 "nbformat_minor": 5
}
